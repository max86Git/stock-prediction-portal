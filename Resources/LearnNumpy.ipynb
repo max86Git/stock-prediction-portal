{
 "cells": [
  {
   "cell_type": "code",
   "execution_count": 1,
   "id": "b67726d6-9954-4b9c-9bea-cd2ca19c2e8a",
   "metadata": {},
   "outputs": [],
   "source": [
    "import numpy as np"
   ]
  },
  {
   "cell_type": "code",
   "execution_count": 2,
   "id": "6cc6ce30-78aa-4c36-b4ed-8414af6f91df",
   "metadata": {},
   "outputs": [
    {
     "data": {
      "text/plain": [
       "'2.2.3'"
      ]
     },
     "execution_count": 2,
     "metadata": {},
     "output_type": "execute_result"
    }
   ],
   "source": [
    "np.__version__"
   ]
  },
  {
   "cell_type": "markdown",
   "id": "296d9a9c-0bcc-480c-8875-8203187bf750",
   "metadata": {},
   "source": [
    "## Create & Readb"
   ]
  },
  {
   "cell_type": "markdown",
   "id": "604a3016-c0d9-45c9-8dfc-985cf16ce235",
   "metadata": {},
   "source": [
    "#### 1D Array"
   ]
  },
  {
   "cell_type": "code",
   "execution_count": 3,
   "id": "90871118-55c2-4da1-b0a2-56a7374f01de",
   "metadata": {},
   "outputs": [
    {
     "data": {
      "text/plain": [
       "array([1, 2, 3, 4, 5])"
      ]
     },
     "execution_count": 3,
     "metadata": {},
     "output_type": "execute_result"
    }
   ],
   "source": [
    "array1 = np.array([1, 2, 3, 4, 5])\n",
    "array1"
   ]
  },
  {
   "cell_type": "code",
   "execution_count": 4,
   "id": "c16ee1af-bd56-4484-a77e-55d03fd8faf7",
   "metadata": {},
   "outputs": [
    {
     "data": {
      "text/plain": [
       "numpy.ndarray"
      ]
     },
     "execution_count": 4,
     "metadata": {},
     "output_type": "execute_result"
    }
   ],
   "source": [
    "type(array1)"
   ]
  },
  {
   "cell_type": "code",
   "execution_count": 5,
   "id": "f6577c7f-d742-44b8-9431-e3b6d6cece23",
   "metadata": {},
   "outputs": [
    {
     "data": {
      "text/plain": [
       "(5,)"
      ]
     },
     "execution_count": 5,
     "metadata": {},
     "output_type": "execute_result"
    }
   ],
   "source": [
    "array1.shape # (row, col)"
   ]
  },
  {
   "cell_type": "code",
   "execution_count": 6,
   "id": "2e713ac5-f8b9-44ab-8fd2-2fbc97e23249",
   "metadata": {},
   "outputs": [
    {
     "data": {
      "text/plain": [
       "dtype('int64')"
      ]
     },
     "execution_count": 6,
     "metadata": {},
     "output_type": "execute_result"
    }
   ],
   "source": [
    "# Quel type d'éléments\n",
    "array1.dtype"
   ]
  },
  {
   "cell_type": "code",
   "execution_count": 7,
   "id": "f9bf4497-7c0c-450a-9044-c1f3f3c9ffad",
   "metadata": {},
   "outputs": [
    {
     "data": {
      "text/plain": [
       "1"
      ]
     },
     "execution_count": 7,
     "metadata": {},
     "output_type": "execute_result"
    }
   ],
   "source": [
    "# Combien de dimmension à le tableau\n",
    "array1.ndim"
   ]
  },
  {
   "cell_type": "code",
   "execution_count": 8,
   "id": "94171bb1-b63f-4441-9c6a-0fdfbf36fcdc",
   "metadata": {},
   "outputs": [
    {
     "data": {
      "text/plain": [
       "5"
      ]
     },
     "execution_count": 8,
     "metadata": {},
     "output_type": "execute_result"
    }
   ],
   "source": [
    "# Nombre d'eléments\n",
    "array1.size"
   ]
  },
  {
   "cell_type": "markdown",
   "id": "8a1bdfd2-94fd-47d1-aa08-b9b2ec217e1e",
   "metadata": {},
   "source": [
    "#### 2D Array"
   ]
  },
  {
   "cell_type": "code",
   "execution_count": 10,
   "id": "90b0dd2f-db59-4149-a46a-97fa88246cc2",
   "metadata": {},
   "outputs": [
    {
     "data": {
      "text/plain": [
       "array([[1, 2, 3],\n",
       "       [4, 5, 6]])"
      ]
     },
     "execution_count": 10,
     "metadata": {},
     "output_type": "execute_result"
    }
   ],
   "source": [
    "array2 = np.array([[1, 2, 3], [4, 5, 6]])\n",
    "array2"
   ]
  },
  {
   "cell_type": "code",
   "execution_count": 11,
   "id": "acea8aba-fcf5-44c2-9efa-7c4a733e50de",
   "metadata": {},
   "outputs": [
    {
     "data": {
      "text/plain": [
       "2"
      ]
     },
     "execution_count": 11,
     "metadata": {},
     "output_type": "execute_result"
    }
   ],
   "source": [
    "array2.ndim"
   ]
  },
  {
   "cell_type": "code",
   "execution_count": 12,
   "id": "7a445b64-4c9a-43c7-902f-bf7b1a2a2572",
   "metadata": {},
   "outputs": [
    {
     "data": {
      "text/plain": [
       "(2, 3)"
      ]
     },
     "execution_count": 12,
     "metadata": {},
     "output_type": "execute_result"
    }
   ],
   "source": [
    "array2.shape # (row, col)"
   ]
  },
  {
   "cell_type": "code",
   "execution_count": 13,
   "id": "b4837b50-06fb-4ea3-927f-fb7eb118f046",
   "metadata": {},
   "outputs": [
    {
     "data": {
      "text/plain": [
       "6"
      ]
     },
     "execution_count": 13,
     "metadata": {},
     "output_type": "execute_result"
    }
   ],
   "source": [
    "array2.size"
   ]
  },
  {
   "cell_type": "markdown",
   "id": "a23d0c7c-aecd-4372-ac8d-feb26376e26d",
   "metadata": {},
   "source": [
    "#### 3D Array"
   ]
  },
  {
   "cell_type": "code",
   "execution_count": 17,
   "id": "f2dc2c20-074a-4ec5-a4e4-05d8a6c60c31",
   "metadata": {},
   "outputs": [
    {
     "data": {
      "text/plain": [
       "array([[[ 1,  2,  3],\n",
       "        [ 4,  5,  6]],\n",
       "\n",
       "       [[ 3,  4,  5],\n",
       "        [ 5,  8,  7]],\n",
       "\n",
       "       [[ 9,  2, 55],\n",
       "        [48,  5, 16]]])"
      ]
     },
     "execution_count": 17,
     "metadata": {},
     "output_type": "execute_result"
    }
   ],
   "source": [
    "array3 = np.array([[[1, 2, 3], [4, 5, 6]], [[3, 4, 5], [5, 8, 7]], [[9, 2, 55], [48, 5, 16]]])\n",
    "array3"
   ]
  },
  {
   "cell_type": "code",
   "execution_count": 18,
   "id": "c575cbff-8f6d-412b-ad64-0310db4003b0",
   "metadata": {},
   "outputs": [
    {
     "data": {
      "text/plain": [
       "3"
      ]
     },
     "execution_count": 18,
     "metadata": {},
     "output_type": "execute_result"
    }
   ],
   "source": [
    "array3.ndim"
   ]
  },
  {
   "cell_type": "code",
   "execution_count": 19,
   "id": "0d675959-171a-427a-aa73-5bc6f574583c",
   "metadata": {},
   "outputs": [
    {
     "data": {
      "text/plain": [
       "(3, 2, 3)"
      ]
     },
     "execution_count": 19,
     "metadata": {},
     "output_type": "execute_result"
    }
   ],
   "source": [
    "array3.shape"
   ]
  },
  {
   "cell_type": "code",
   "execution_count": 23,
   "id": "66c05691-7290-4021-820d-83fbaa9cc117",
   "metadata": {},
   "outputs": [
    {
     "data": {
      "text/plain": [
       "18"
      ]
     },
     "execution_count": 23,
     "metadata": {},
     "output_type": "execute_result"
    }
   ],
   "source": [
    "array3.size"
   ]
  },
  {
   "cell_type": "code",
   "execution_count": 28,
   "id": "81e701e7-aad4-474a-9e58-277344eb7b6f",
   "metadata": {},
   "outputs": [
    {
     "data": {
      "text/plain": [
       "array([[1, 2, 3],\n",
       "       [4, 5, 6]])"
      ]
     },
     "execution_count": 28,
     "metadata": {},
     "output_type": "execute_result"
    }
   ],
   "source": [
    "array3[0]"
   ]
  },
  {
   "cell_type": "code",
   "execution_count": 33,
   "id": "de7bb023-27b1-428b-9156-5ac63d7ea847",
   "metadata": {},
   "outputs": [
    {
     "data": {
      "text/plain": [
       "np.int64(8)"
      ]
     },
     "execution_count": 33,
     "metadata": {},
     "output_type": "execute_result"
    }
   ],
   "source": [
    "array3[1][1][1]"
   ]
  },
  {
   "cell_type": "code",
   "execution_count": 34,
   "id": "5da6eff2-284c-4140-b422-9aa2d2423841",
   "metadata": {},
   "outputs": [
    {
     "data": {
      "text/plain": [
       "array([[[1, 2, 3],\n",
       "        [4, 5, 6]],\n",
       "\n",
       "       [[3, 4, 5],\n",
       "        [5, 8, 7]]])"
      ]
     },
     "execution_count": 34,
     "metadata": {},
     "output_type": "execute_result"
    }
   ],
   "source": [
    "array3[0:2]"
   ]
  },
  {
   "cell_type": "code",
   "execution_count": 35,
   "id": "6103c15a-455c-4ca6-839e-2e116a199171",
   "metadata": {},
   "outputs": [
    {
     "data": {
      "text/plain": [
       "array([[ 9,  2, 55],\n",
       "       [48,  5, 16]])"
      ]
     },
     "execution_count": 35,
     "metadata": {},
     "output_type": "execute_result"
    }
   ],
   "source": [
    "array3[-1]"
   ]
  },
  {
   "cell_type": "code",
   "execution_count": 36,
   "id": "4923a69f-9102-40ab-b3b3-d9bd1a62f6a8",
   "metadata": {},
   "outputs": [
    {
     "data": {
      "text/plain": [
       "np.int64(4)"
      ]
     },
     "execution_count": 36,
     "metadata": {},
     "output_type": "execute_result"
    }
   ],
   "source": [
    "array3[1][0][1]"
   ]
  },
  {
   "cell_type": "code",
   "execution_count": 37,
   "id": "ccc9b956-acc9-4095-a372-efb9c0c9f5a3",
   "metadata": {},
   "outputs": [
    {
     "data": {
      "text/plain": [
       "np.int64(4)"
      ]
     },
     "execution_count": 37,
     "metadata": {},
     "output_type": "execute_result"
    }
   ],
   "source": [
    "# ou 2ème solution\n",
    "array3[1, 0, 1]"
   ]
  },
  {
   "cell_type": "markdown",
   "id": "e5952aeb-4ea9-4c5f-9e7d-8e4481997af8",
   "metadata": {},
   "source": [
    "## Create random array"
   ]
  },
  {
   "cell_type": "code",
   "execution_count": 21,
   "id": "4cebe3dc-d81a-4ddd-8b50-15695e1ac8f3",
   "metadata": {},
   "outputs": [
    {
     "data": {
      "text/plain": [
       "array([[[0.24366228, 0.43617831, 0.03012975],\n",
       "        [0.34439272, 0.59051346, 0.84045601]],\n",
       "\n",
       "       [[0.44339108, 0.10347768, 0.371114  ],\n",
       "        [0.72605323, 0.55190912, 0.61499523]],\n",
       "\n",
       "       [[0.22895447, 0.83039741, 0.41382168],\n",
       "        [0.55444973, 0.20636839, 0.26595188]]])"
      ]
     },
     "execution_count": 21,
     "metadata": {},
     "output_type": "execute_result"
    }
   ],
   "source": [
    "randomArr = np.random.rand(3, 2, 3)\n",
    "randomArr"
   ]
  },
  {
   "cell_type": "code",
   "execution_count": 22,
   "id": "94a0e09b-2726-46b2-a4ec-3f186808b083",
   "metadata": {},
   "outputs": [
    {
     "data": {
      "text/plain": [
       "dtype('float64')"
      ]
     },
     "execution_count": 22,
     "metadata": {},
     "output_type": "execute_result"
    }
   ],
   "source": [
    "randomArr.dtype"
   ]
  },
  {
   "cell_type": "code",
   "execution_count": 24,
   "id": "0e2f5311-d9dc-48ea-97ad-ded997a8573b",
   "metadata": {},
   "outputs": [
    {
     "data": {
      "text/plain": [
       "array([[[0., 0., 0.],\n",
       "        [0., 0., 0.]],\n",
       "\n",
       "       [[0., 0., 0.],\n",
       "        [0., 0., 0.]],\n",
       "\n",
       "       [[0., 0., 0.],\n",
       "        [0., 0., 0.]]])"
      ]
     },
     "execution_count": 24,
     "metadata": {},
     "output_type": "execute_result"
    }
   ],
   "source": [
    "zeroes = np.zeros((3, 2, 3))\n",
    "zeroes"
   ]
  },
  {
   "cell_type": "code",
   "execution_count": 25,
   "id": "a0809916-fdea-4cd1-a39b-8bc4df0d64c1",
   "metadata": {},
   "outputs": [
    {
     "data": {
      "text/plain": [
       "3"
      ]
     },
     "execution_count": 25,
     "metadata": {},
     "output_type": "execute_result"
    }
   ],
   "source": [
    "zeroes.ndim"
   ]
  },
  {
   "cell_type": "code",
   "execution_count": 26,
   "id": "e3ddb412-29b8-499c-ae87-ddc742578629",
   "metadata": {},
   "outputs": [
    {
     "data": {
      "text/plain": [
       "array([[[9, 9, 9],\n",
       "        [9, 9, 9]],\n",
       "\n",
       "       [[9, 9, 9],\n",
       "        [9, 9, 9]],\n",
       "\n",
       "       [[9, 9, 9],\n",
       "        [9, 9, 9]]])"
      ]
     },
     "execution_count": 26,
     "metadata": {},
     "output_type": "execute_result"
    }
   ],
   "source": [
    "full = np.full((3, 2, 3), 9)\n",
    "full"
   ]
  },
  {
   "cell_type": "code",
   "execution_count": 27,
   "id": "bb2c7d3c-fac3-432a-93e4-277868da89b6",
   "metadata": {},
   "outputs": [
    {
     "data": {
      "text/plain": [
       "array([[[1., 1., 1.],\n",
       "        [1., 1., 1.],\n",
       "        [1., 1., 1.],\n",
       "        [1., 1., 1.]],\n",
       "\n",
       "       [[1., 1., 1.],\n",
       "        [1., 1., 1.],\n",
       "        [1., 1., 1.],\n",
       "        [1., 1., 1.]],\n",
       "\n",
       "       [[1., 1., 1.],\n",
       "        [1., 1., 1.],\n",
       "        [1., 1., 1.],\n",
       "        [1., 1., 1.]]])"
      ]
     },
     "execution_count": 27,
     "metadata": {},
     "output_type": "execute_result"
    }
   ],
   "source": [
    "ones = np.ones((3, 4, 3))\n",
    "ones"
   ]
  },
  {
   "cell_type": "markdown",
   "id": "f82a65ff-029b-45ee-b6a0-e3c61df9d07e",
   "metadata": {},
   "source": [
    "## Update & Delete"
   ]
  },
  {
   "cell_type": "code",
   "execution_count": 39,
   "id": "5f0187a3-6731-4b21-8256-c9f21a9279b5",
   "metadata": {},
   "outputs": [
    {
     "data": {
      "text/plain": [
       "array([[[0.07926308, 0.15749678],\n",
       "        [0.5956594 , 0.26584336],\n",
       "        [0.33318993, 0.84719862]],\n",
       "\n",
       "       [[0.4016161 , 0.6347078 ],\n",
       "        [0.59820686, 0.14815273],\n",
       "        [0.15981611, 0.62397407]]])"
      ]
     },
     "execution_count": 39,
     "metadata": {},
     "output_type": "execute_result"
    }
   ],
   "source": [
    "a1 = np.random.rand(2, 3, 2)\n",
    "a2 = np.random.rand(2, 3, 2)\n",
    "a1"
   ]
  },
  {
   "cell_type": "code",
   "execution_count": 40,
   "id": "0e7fe498-b053-4494-9de4-0c3cbf2f838d",
   "metadata": {},
   "outputs": [
    {
     "data": {
      "text/plain": [
       "array([[[0.32608928, 0.85410465],\n",
       "        [0.14992284, 0.39791744],\n",
       "        [0.98639352, 0.43972187]],\n",
       "\n",
       "       [[0.31630408, 0.79160463],\n",
       "        [0.96489834, 0.45649423],\n",
       "        [0.62796182, 0.65179302]]])"
      ]
     },
     "execution_count": 40,
     "metadata": {},
     "output_type": "execute_result"
    }
   ],
   "source": [
    "a2"
   ]
  },
  {
   "cell_type": "code",
   "execution_count": 41,
   "id": "389645f1-396a-4adb-9e92-caa52b9aa0de",
   "metadata": {},
   "outputs": [
    {
     "data": {
      "text/plain": [
       "array([[[0.40535236, 1.01160143],\n",
       "        [0.74558224, 0.6637608 ],\n",
       "        [1.31958345, 1.28692049]],\n",
       "\n",
       "       [[0.71792018, 1.42631242],\n",
       "        [1.5631052 , 0.60464697],\n",
       "        [0.78777794, 1.27576709]]])"
      ]
     },
     "execution_count": 41,
     "metadata": {},
     "output_type": "execute_result"
    }
   ],
   "source": [
    "np.add(a1, a2)"
   ]
  },
  {
   "cell_type": "code",
   "execution_count": 43,
   "id": "70a95be7-0095-4209-b81f-db3aa8d6ecdd",
   "metadata": {},
   "outputs": [
    {
     "data": {
      "text/plain": [
       "array([[[-0.24682619, -0.69660787],\n",
       "        [ 0.44573655, -0.13207409],\n",
       "        [-0.65320358,  0.40747675]],\n",
       "\n",
       "       [[ 0.08531201, -0.15689683],\n",
       "        [-0.36669148, -0.3083415 ],\n",
       "        [-0.46814571, -0.02781896]]])"
      ]
     },
     "execution_count": 43,
     "metadata": {},
     "output_type": "execute_result"
    }
   ],
   "source": [
    "np.subtract(a1, a2)"
   ]
  },
  {
   "cell_type": "code",
   "execution_count": 44,
   "id": "e8248ec5-778f-4f89-87fb-b41f05c36adf",
   "metadata": {},
   "outputs": [
    {
     "data": {
      "text/plain": [
       "array([[[0.24307173, 0.18439986],\n",
       "        [3.97310631, 0.66808671],\n",
       "        [0.33778601, 1.92666928]],\n",
       "\n",
       "       [[1.26971517, 0.801799  ],\n",
       "        [0.6199688 , 0.32454459],\n",
       "        [0.25449973, 0.95731934]]])"
      ]
     },
     "execution_count": 44,
     "metadata": {},
     "output_type": "execute_result"
    }
   ],
   "source": [
    "np.divide(a1, a2)"
   ]
  },
  {
   "cell_type": "code",
   "execution_count": 45,
   "id": "1ee99dc6-7d62-42ba-bf66-9475c1aae3de",
   "metadata": {},
   "outputs": [
    {
     "data": {
      "text/plain": [
       "array([[[0.02584684, 0.13451873],\n",
       "        [0.08930295, 0.10578371],\n",
       "        [0.32865639, 0.37253176]],\n",
       "\n",
       "       [[0.12703281, 0.50243763],\n",
       "        [0.57720881, 0.06763087],\n",
       "        [0.10035842, 0.40670194]]])"
      ]
     },
     "execution_count": 45,
     "metadata": {},
     "output_type": "execute_result"
    }
   ],
   "source": [
    "np.multiply(a1, a2)"
   ]
  },
  {
   "cell_type": "code",
   "execution_count": 47,
   "id": "d243d207-7d2c-43cd-ab03-ed7995c1f3e7",
   "metadata": {},
   "outputs": [
    {
     "data": {
      "text/plain": [
       "np.float64(0.9863935165471074)"
      ]
     },
     "execution_count": 47,
     "metadata": {},
     "output_type": "execute_result"
    }
   ],
   "source": [
    "sqrt = np.sqrt(25)\n",
    "abs = np.abs(-2)\n",
    "power = np.power(2, 8)\n",
    "log = np.log(25)\n",
    "mins = np.min(a1)\n",
    "maxs = np.max(a2)\n",
    "sqrt\n"
   ]
  },
  {
   "cell_type": "code",
   "execution_count": 48,
   "id": "a54a1bcb-123f-42bf-8c1a-cd3ab1f1f11f",
   "metadata": {},
   "outputs": [
    {
     "data": {
      "text/plain": [
       "np.float64(5.0)"
      ]
     },
     "execution_count": 48,
     "metadata": {},
     "output_type": "execute_result"
    }
   ],
   "source": [
    "sqrt"
   ]
  },
  {
   "cell_type": "code",
   "execution_count": 49,
   "id": "ed46e63f-8c77-4dc4-8ce5-b1ce2b2dccb6",
   "metadata": {},
   "outputs": [
    {
     "data": {
      "text/plain": [
       "np.int64(2)"
      ]
     },
     "execution_count": 49,
     "metadata": {},
     "output_type": "execute_result"
    }
   ],
   "source": [
    "abs"
   ]
  },
  {
   "cell_type": "code",
   "execution_count": 50,
   "id": "d763c253-718c-4742-a529-63719a04d193",
   "metadata": {},
   "outputs": [
    {
     "data": {
      "text/plain": [
       "np.int64(256)"
      ]
     },
     "execution_count": 50,
     "metadata": {},
     "output_type": "execute_result"
    }
   ],
   "source": [
    "power"
   ]
  },
  {
   "cell_type": "code",
   "execution_count": 51,
   "id": "ed968fd3-0081-44ef-b9ab-a8060c66ea95",
   "metadata": {},
   "outputs": [
    {
     "data": {
      "text/plain": [
       "np.float64(3.2188758248682006)"
      ]
     },
     "execution_count": 51,
     "metadata": {},
     "output_type": "execute_result"
    }
   ],
   "source": [
    "log"
   ]
  },
  {
   "cell_type": "code",
   "execution_count": 52,
   "id": "89780378-92e1-4319-91e7-5d30330f8e8b",
   "metadata": {},
   "outputs": [
    {
     "data": {
      "text/plain": [
       "np.float64(0.07926308282741334)"
      ]
     },
     "execution_count": 52,
     "metadata": {},
     "output_type": "execute_result"
    }
   ],
   "source": [
    "mins"
   ]
  },
  {
   "cell_type": "code",
   "execution_count": 53,
   "id": "1ba95e23-c86e-4d11-ab5e-8579c9402fe2",
   "metadata": {},
   "outputs": [
    {
     "data": {
      "text/plain": [
       "np.float64(0.9863935165471074)"
      ]
     },
     "execution_count": 53,
     "metadata": {},
     "output_type": "execute_result"
    }
   ],
   "source": [
    "maxs"
   ]
  },
  {
   "cell_type": "markdown",
   "id": "059157ef-9403-4f83-ac76-8b89f0949884",
   "metadata": {},
   "source": [
    "## update"
   ]
  },
  {
   "cell_type": "code",
   "execution_count": 54,
   "id": "345c24a8-b80a-40b3-a88c-26547e8371bc",
   "metadata": {},
   "outputs": [
    {
     "data": {
      "text/plain": [
       "array([[[ 1,  2,  3],\n",
       "        [ 4,  5,  6]],\n",
       "\n",
       "       [[ 3,  4,  5],\n",
       "        [ 5,  8,  7]],\n",
       "\n",
       "       [[ 9,  2, 55],\n",
       "        [48,  5, 16]]])"
      ]
     },
     "execution_count": 54,
     "metadata": {},
     "output_type": "execute_result"
    }
   ],
   "source": [
    "array3"
   ]
  },
  {
   "cell_type": "code",
   "execution_count": 59,
   "id": "3ef2d2fd-e8d3-4426-a792-090cefb55b95",
   "metadata": {},
   "outputs": [
    {
     "data": {
      "text/plain": [
       "array([[[  1, 500, 500],\n",
       "        [  4,   5,   6]],\n",
       "\n",
       "       [[  3,   4,   5],\n",
       "        [  5,   8,   7]],\n",
       "\n",
       "       [[  9,   2,  55],\n",
       "        [ 48,   5,  16]]])"
      ]
     },
     "execution_count": 59,
     "metadata": {},
     "output_type": "execute_result"
    }
   ],
   "source": [
    "array3[0, 0, 2] = 500\n",
    "array3"
   ]
  },
  {
   "cell_type": "code",
   "execution_count": 60,
   "id": "024b3d22-ab9c-4fff-b745-0825ae1d2ee5",
   "metadata": {},
   "outputs": [
    {
     "data": {
      "text/plain": [
       "array([[[  1, 500, 500],\n",
       "        [  4,   5,   6]],\n",
       "\n",
       "       [[  3,   4,   5],\n",
       "        [  5,   7,   8]],\n",
       "\n",
       "       [[  2,   9,  55],\n",
       "        [  5,  16,  48]]])"
      ]
     },
     "execution_count": 60,
     "metadata": {},
     "output_type": "execute_result"
    }
   ],
   "source": [
    "array3.sort()\n",
    "array3"
   ]
  },
  {
   "cell_type": "code",
   "execution_count": 61,
   "id": "0f7e5ecc-cd41-4aaa-a0d6-947043e4c33b",
   "metadata": {},
   "outputs": [
    {
     "data": {
      "text/plain": [
       "(3, 2, 3)"
      ]
     },
     "execution_count": 61,
     "metadata": {},
     "output_type": "execute_result"
    }
   ],
   "source": [
    "# Reshape\n",
    "array3.shape"
   ]
  },
  {
   "cell_type": "code",
   "execution_count": 63,
   "id": "fa8888a5-9217-44a8-88ff-42b1ec1472e2",
   "metadata": {},
   "outputs": [
    {
     "data": {
      "text/plain": [
       "array([[[  1, 500, 500],\n",
       "        [  4,   5,   6],\n",
       "        [  3,   4,   5]],\n",
       "\n",
       "       [[  5,   7,   8],\n",
       "        [  2,   9,  55],\n",
       "        [  5,  16,  48]]])"
      ]
     },
     "execution_count": 63,
     "metadata": {},
     "output_type": "execute_result"
    }
   ],
   "source": [
    "array3_reshape = array3.reshape((2, 3, 3)) # équivalent = array3.reshape((2, 3, -1))\n",
    "array3_reshape"
   ]
  },
  {
   "cell_type": "markdown",
   "id": "bdcc6d06-de56-4e4d-b551-531507ac2973",
   "metadata": {},
   "source": [
    "#### Appending & Inserting"
   ]
  },
  {
   "cell_type": "code",
   "execution_count": 64,
   "id": "55b418fd-1cce-47a8-85d0-0f4adb3639e6",
   "metadata": {},
   "outputs": [
    {
     "data": {
      "text/plain": [
       "array([[[0., 0., 0.],\n",
       "        [0., 0., 0.]],\n",
       "\n",
       "       [[0., 0., 0.],\n",
       "        [0., 0., 0.]],\n",
       "\n",
       "       [[0., 0., 0.],\n",
       "        [0., 0., 0.]]])"
      ]
     },
     "execution_count": 64,
     "metadata": {},
     "output_type": "execute_result"
    }
   ],
   "source": [
    "zeroes"
   ]
  },
  {
   "cell_type": "code",
   "execution_count": 65,
   "id": "7c2b7793-8b62-4295-b458-1abf2b438641",
   "metadata": {},
   "outputs": [
    {
     "data": {
      "text/plain": [
       "array([[[1., 1., 1.],\n",
       "        [1., 1., 1.]],\n",
       "\n",
       "       [[1., 1., 1.],\n",
       "        [1., 1., 1.]],\n",
       "\n",
       "       [[1., 1., 1.],\n",
       "        [1., 1., 1.]]])"
      ]
     },
     "execution_count": 65,
     "metadata": {},
     "output_type": "execute_result"
    }
   ],
   "source": [
    "# Create a new array\n",
    "new_array = np.ones((3, 2, 3))\n",
    "new_array"
   ]
  },
  {
   "cell_type": "code",
   "execution_count": 66,
   "id": "7bbf122a-5fb0-4a8c-a6fb-4713c61da736",
   "metadata": {},
   "outputs": [
    {
     "data": {
      "text/plain": [
       "array([[[0., 0., 0.],\n",
       "        [0., 0., 0.]],\n",
       "\n",
       "       [[0., 0., 0.],\n",
       "        [0., 0., 0.]],\n",
       "\n",
       "       [[0., 0., 0.],\n",
       "        [0., 0., 0.]],\n",
       "\n",
       "       [[1., 1., 1.],\n",
       "        [1., 1., 1.]],\n",
       "\n",
       "       [[1., 1., 1.],\n",
       "        [1., 1., 1.]],\n",
       "\n",
       "       [[1., 1., 1.],\n",
       "        [1., 1., 1.]]])"
      ]
     },
     "execution_count": 66,
     "metadata": {},
     "output_type": "execute_result"
    }
   ],
   "source": [
    "appd = np.append(zeroes, new_array, axis=0) # axis 0 = row, axis 1 = colonne\n",
    "appd"
   ]
  },
  {
   "cell_type": "code",
   "execution_count": 67,
   "id": "8b1551eb-bec6-43ec-8bb3-b0633461a8b2",
   "metadata": {},
   "outputs": [
    {
     "data": {
      "text/plain": [
       "array([[[0., 0., 0.],\n",
       "        [0., 0., 0.]],\n",
       "\n",
       "       [[0., 0., 0.],\n",
       "        [0., 0., 0.]],\n",
       "\n",
       "       [[0., 0., 0.],\n",
       "        [0., 0., 0.]]])"
      ]
     },
     "execution_count": 67,
     "metadata": {},
     "output_type": "execute_result"
    }
   ],
   "source": [
    "# Insert\n",
    "zeroes"
   ]
  },
  {
   "cell_type": "code",
   "execution_count": 68,
   "id": "754a6593-8164-4e3a-a9e1-678a2f396d46",
   "metadata": {},
   "outputs": [
    {
     "data": {
      "text/plain": [
       "array([[[1., 1., 1.],\n",
       "        [1., 1., 1.]],\n",
       "\n",
       "       [[1., 1., 1.],\n",
       "        [1., 1., 1.]],\n",
       "\n",
       "       [[1., 1., 1.],\n",
       "        [1., 1., 1.]]])"
      ]
     },
     "execution_count": 68,
     "metadata": {},
     "output_type": "execute_result"
    }
   ],
   "source": [
    "new_array"
   ]
  },
  {
   "cell_type": "code",
   "execution_count": 71,
   "id": "a7e9f256-657c-45e9-963e-5b1b5064a5cb",
   "metadata": {},
   "outputs": [
    {
     "data": {
      "text/plain": [
       "array([[[0., 0., 0.],\n",
       "        [0., 0., 0.]],\n",
       "\n",
       "       [[1., 1., 1.],\n",
       "        [1., 1., 1.]],\n",
       "\n",
       "       [[1., 1., 1.],\n",
       "        [1., 1., 1.]],\n",
       "\n",
       "       [[1., 1., 1.],\n",
       "        [1., 1., 1.]],\n",
       "\n",
       "       [[0., 0., 0.],\n",
       "        [0., 0., 0.]],\n",
       "\n",
       "       [[0., 0., 0.],\n",
       "        [0., 0., 0.]]])"
      ]
     },
     "execution_count": 71,
     "metadata": {},
     "output_type": "execute_result"
    }
   ],
   "source": [
    "inserted_array = np.insert(zeroes, 1, new_array, axis=0)\n",
    "inserted_array"
   ]
  },
  {
   "cell_type": "code",
   "execution_count": 72,
   "id": "182c248d-3530-4d23-bf2a-0a35e47f5fee",
   "metadata": {},
   "outputs": [
    {
     "data": {
      "text/plain": [
       "(6, 2, 3)"
      ]
     },
     "execution_count": 72,
     "metadata": {},
     "output_type": "execute_result"
    }
   ],
   "source": [
    "inserted_array.shape"
   ]
  },
  {
   "cell_type": "markdown",
   "id": "0f362f09-57f7-4a9d-be5f-9ce345b39488",
   "metadata": {},
   "source": [
    "## Delete"
   ]
  },
  {
   "cell_type": "code",
   "execution_count": 74,
   "id": "8b4e88ab-3f5f-41d2-8376-3f1e7dbb5b3f",
   "metadata": {},
   "outputs": [
    {
     "data": {
      "text/plain": [
       "array([[[0.34342775, 0.75524631, 0.43323106],\n",
       "        [0.75825317, 0.38022069, 0.67712666]],\n",
       "\n",
       "       [[0.52420886, 0.81244873, 0.30183077],\n",
       "        [0.02606832, 0.75300917, 0.06253338]],\n",
       "\n",
       "       [[0.90363536, 0.28255453, 0.47262685],\n",
       "        [0.85674355, 0.29277863, 0.47633573]]])"
      ]
     },
     "execution_count": 74,
     "metadata": {},
     "output_type": "execute_result"
    }
   ],
   "source": [
    "array4 = np.random.rand(3, 2, 3)\n",
    "array4"
   ]
  },
  {
   "cell_type": "code",
   "execution_count": 77,
   "id": "1acb0853-4a42-4d76-a199-5364b4fc3c50",
   "metadata": {},
   "outputs": [
    {
     "data": {
      "text/plain": [
       "array([[[0.75825317, 0.38022069, 0.67712666]],\n",
       "\n",
       "       [[0.02606832, 0.75300917, 0.06253338]],\n",
       "\n",
       "       [[0.85674355, 0.29277863, 0.47633573]]])"
      ]
     },
     "execution_count": 77,
     "metadata": {},
     "output_type": "execute_result"
    }
   ],
   "source": [
    "# delete the array\n",
    "array5 = np.delete(array4, 0, axis=1)\n",
    "array5"
   ]
  },
  {
   "cell_type": "code",
   "execution_count": 79,
   "id": "35c17f96-3372-4844-bf17-e6fadf2be866",
   "metadata": {},
   "outputs": [],
   "source": [
    "np.save(\"new_array\", array5)"
   ]
  },
  {
   "cell_type": "code",
   "execution_count": 81,
   "id": "5d6f2299-2f61-4a9f-9c50-fb6021b13e8a",
   "metadata": {},
   "outputs": [
    {
     "data": {
      "text/plain": [
       "array([[[0.75825317, 0.38022069, 0.67712666]],\n",
       "\n",
       "       [[0.02606832, 0.75300917, 0.06253338]],\n",
       "\n",
       "       [[0.85674355, 0.29277863, 0.47633573]]])"
      ]
     },
     "execution_count": 81,
     "metadata": {},
     "output_type": "execute_result"
    }
   ],
   "source": [
    "np.load(\"new_array.npy\")"
   ]
  },
  {
   "cell_type": "code",
   "execution_count": null,
   "id": "f00da98c-c3a4-409e-a2f5-1f824f3bbefe",
   "metadata": {},
   "outputs": [],
   "source": []
  }
 ],
 "metadata": {
  "kernelspec": {
   "display_name": "Python 3 (ipykernel)",
   "language": "python",
   "name": "python3"
  },
  "language_info": {
   "codemirror_mode": {
    "name": "ipython",
    "version": 3
   },
   "file_extension": ".py",
   "mimetype": "text/x-python",
   "name": "python",
   "nbconvert_exporter": "python",
   "pygments_lexer": "ipython3",
   "version": "3.12.9"
  }
 },
 "nbformat": 4,
 "nbformat_minor": 5
}
